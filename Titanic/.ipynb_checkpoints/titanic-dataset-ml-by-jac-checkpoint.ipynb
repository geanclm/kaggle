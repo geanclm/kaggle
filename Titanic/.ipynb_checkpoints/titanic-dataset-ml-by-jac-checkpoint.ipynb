{
 "cells": [
  {
   "cell_type": "markdown",
   "id": "65be1a04",
   "metadata": {
    "papermill": {
     "duration": 0.014856,
     "end_time": "2023-11-20T07:43:43.663623",
     "exception": false,
     "start_time": "2023-11-20T07:43:43.648767",
     "status": "completed"
    },
    "tags": []
   },
   "source": [
    "<h1><center><div class=\"alert alert-block alert-warning\"><span style=\"color:blue\">Titanic Survival Prediction</span></div></center></h1>"
   ]
  },
  {
   "cell_type": "markdown",
   "id": "924fc1ff",
   "metadata": {
    "papermill": {
     "duration": 0.014059,
     "end_time": "2023-11-20T07:43:43.692834",
     "exception": false,
     "start_time": "2023-11-20T07:43:43.678775",
     "status": "completed"
    },
    "tags": []
   },
   "source": [
    "<b>Created by: Jayson Castillo</b>"
   ]
  },
  {
   "cell_type": "markdown",
   "id": "7f7a8a45",
   "metadata": {
    "papermill": {
     "duration": 0.014028,
     "end_time": "2023-11-20T07:43:43.721250",
     "exception": false,
     "start_time": "2023-11-20T07:43:43.707222",
     "status": "completed"
    },
    "tags": []
   },
   "source": [
    "<div class=\"alert alert-block alert-success\">\n",
    "<b>TABLE OF CONTENTS</b>\n",
    "</div>"
   ]
  },
  {
   "cell_type": "markdown",
   "id": "fbea44d3",
   "metadata": {
    "papermill": {
     "duration": 0.014155,
     "end_time": "2023-11-20T07:43:43.749782",
     "exception": false,
     "start_time": "2023-11-20T07:43:43.735627",
     "status": "completed"
    },
    "tags": []
   },
   "source": [
    "*  [`Importing Libraries`](#step-1)\n",
    "*  [`Loading Datasets`](#step-2)\n",
    "*  [`Feature Engineering with EDA`](#step-3)\n",
    "*  [`Preprocessing`](#step-4)\n",
    "*  [`Model Building`](#step-5)\n",
    "*  [`Model Selection`](#step-6)"
   ]
  },
  {
   "cell_type": "markdown",
   "id": "91a4e07a",
   "metadata": {
    "papermill": {
     "duration": 0.014918,
     "end_time": "2023-11-20T07:43:43.779015",
     "exception": false,
     "start_time": "2023-11-20T07:43:43.764097",
     "status": "completed"
    },
    "tags": []
   },
   "source": [
    "<a id='step-1'></a>\n",
    "<div class=\"alert alert-block alert-info\">\n",
    "<b>STEP 1:</b> Importing Libraries\n",
    "</div>"
   ]
  },
  {
   "cell_type": "code",
   "execution_count": 1,
   "id": "5f3609e3",
   "metadata": {
    "execution": {
     "iopub.execute_input": "2023-11-20T07:43:43.811519Z",
     "iopub.status.busy": "2023-11-20T07:43:43.810803Z",
     "iopub.status.idle": "2023-11-20T07:43:46.465975Z",
     "shell.execute_reply": "2023-11-20T07:43:46.465002Z"
    },
    "papermill": {
     "duration": 2.674721,
     "end_time": "2023-11-20T07:43:46.468789",
     "exception": false,
     "start_time": "2023-11-20T07:43:43.794068",
     "status": "completed"
    },
    "tags": []
   },
   "outputs": [],
   "source": [
    "# For working with the datasets\n",
    "import pandas as pd\n",
    "import numpy as np\n",
    "\n",
    "# For graphical presentations\n",
    "import matplotlib.pyplot as plt\n",
    "import seaborn as sns\n",
    "\n",
    "# For machine learning\n",
    "from sklearn.preprocessing import OrdinalEncoder\n",
    "from sklearn.preprocessing import LabelEncoder\n",
    "from sklearn.preprocessing import StandardScaler\n",
    "from sklearn.model_selection import GridSearchCV\n",
    "from sklearn.neighbors import KNeighborsClassifier\n",
    "from sklearn.linear_model import LogisticRegression\n",
    "from sklearn.svm import SVC\n",
    "from sklearn.gaussian_process import GaussianProcessClassifier\n",
    "from sklearn.naive_bayes import GaussianNB\n",
    "from sklearn.ensemble import RandomForestClassifier\n",
    "from sklearn.tree import DecisionTreeClassifier\n",
    "from sklearn.metrics import accuracy_score, classification_report\n",
    "\n",
    "import warnings\n",
    "warnings.filterwarnings(\"ignore\")"
   ]
  },
  {
   "cell_type": "code",
   "execution_count": 2,
   "id": "ab47eb5b",
   "metadata": {
    "execution": {
     "iopub.execute_input": "2023-11-20T07:43:46.500104Z",
     "iopub.status.busy": "2023-11-20T07:43:46.499247Z",
     "iopub.status.idle": "2023-11-20T07:43:46.505713Z",
     "shell.execute_reply": "2023-11-20T07:43:46.504893Z"
    },
    "papermill": {
     "duration": 0.02496,
     "end_time": "2023-11-20T07:43:46.508148",
     "exception": false,
     "start_time": "2023-11-20T07:43:46.483188",
     "status": "completed"
    },
    "tags": []
   },
   "outputs": [],
   "source": [
    "# Setting plot parameters\n",
    "plt.style.use('bmh')\n",
    "plt.rcParams[\"figure.figsize\"] = (3, 3)\n",
    "plt.rcParams[\"font.size\"] = 8\n",
    "plt.rcParams[\"xtick.labelsize\"] = 8\n",
    "plt.rcParams[\"ytick.labelsize\"] = 8"
   ]
  },
  {
   "cell_type": "markdown",
   "id": "77c16884",
   "metadata": {
    "papermill": {
     "duration": 0.014109,
     "end_time": "2023-11-20T07:43:46.536422",
     "exception": false,
     "start_time": "2023-11-20T07:43:46.522313",
     "status": "completed"
    },
    "tags": []
   },
   "source": [
    "<a id='step-2'></a>\n",
    "<div class=\"alert alert-block alert-info\">\n",
    "<b>STEP 2:</b> Loading Datasets\n",
    "</div>"
   ]
  },
  {
   "cell_type": "code",
   "execution_count": 3,
   "id": "0ec6fdcb",
   "metadata": {
    "execution": {
     "iopub.execute_input": "2023-11-20T07:43:46.567239Z",
     "iopub.status.busy": "2023-11-20T07:43:46.566629Z",
     "iopub.status.idle": "2023-11-20T07:43:46.654020Z",
     "shell.execute_reply": "2023-11-20T07:43:46.653042Z"
    },
    "papermill": {
     "duration": 0.106024,
     "end_time": "2023-11-20T07:43:46.656805",
     "exception": false,
     "start_time": "2023-11-20T07:43:46.550781",
     "status": "completed"
    },
    "tags": []
   },
   "outputs": [],
   "source": [
    "# Read datasets and save dataframe to train_data, test_data, and passId_data, respectively\n",
    "train_data = pd.read_csv('/kaggle/input/titanic/train.csv')\n",
    "test_data = pd.read_csv('/kaggle/input/titanic/test.csv')\n",
    "passId_data = pd.read_csv('/kaggle/input/titanic/gender_submission.csv')"
   ]
  },
  {
   "cell_type": "code",
   "execution_count": 4,
   "id": "933fb0f9",
   "metadata": {
    "execution": {
     "iopub.execute_input": "2023-11-20T07:43:46.688502Z",
     "iopub.status.busy": "2023-11-20T07:43:46.688053Z",
     "iopub.status.idle": "2023-11-20T07:43:46.720288Z",
     "shell.execute_reply": "2023-11-20T07:43:46.719129Z"
    },
    "papermill": {
     "duration": 0.051021,
     "end_time": "2023-11-20T07:43:46.722802",
     "exception": false,
     "start_time": "2023-11-20T07:43:46.671781",
     "status": "completed"
    },
    "tags": []
   },
   "outputs": [
    {
     "data": {
      "text/html": [
       "<div>\n",
       "<style scoped>\n",
       "    .dataframe tbody tr th:only-of-type {\n",
       "        vertical-align: middle;\n",
       "    }\n",
       "\n",
       "    .dataframe tbody tr th {\n",
       "        vertical-align: top;\n",
       "    }\n",
       "\n",
       "    .dataframe thead th {\n",
       "        text-align: right;\n",
       "    }\n",
       "</style>\n",
       "<table border=\"1\" class=\"dataframe\">\n",
       "  <thead>\n",
       "    <tr style=\"text-align: right;\">\n",
       "      <th></th>\n",
       "      <th>PassengerId</th>\n",
       "      <th>Survived</th>\n",
       "      <th>Pclass</th>\n",
       "      <th>Name</th>\n",
       "      <th>Sex</th>\n",
       "      <th>Age</th>\n",
       "      <th>SibSp</th>\n",
       "      <th>Parch</th>\n",
       "      <th>Ticket</th>\n",
       "      <th>Fare</th>\n",
       "      <th>Cabin</th>\n",
       "      <th>Embarked</th>\n",
       "    </tr>\n",
       "  </thead>\n",
       "  <tbody>\n",
       "    <tr>\n",
       "      <th>0</th>\n",
       "      <td>1</td>\n",
       "      <td>0</td>\n",
       "      <td>3</td>\n",
       "      <td>Braund, Mr. Owen Harris</td>\n",
       "      <td>male</td>\n",
       "      <td>22.0</td>\n",
       "      <td>1</td>\n",
       "      <td>0</td>\n",
       "      <td>A/5 21171</td>\n",
       "      <td>7.2500</td>\n",
       "      <td>NaN</td>\n",
       "      <td>S</td>\n",
       "    </tr>\n",
       "    <tr>\n",
       "      <th>1</th>\n",
       "      <td>2</td>\n",
       "      <td>1</td>\n",
       "      <td>1</td>\n",
       "      <td>Cumings, Mrs. John Bradley (Florence Briggs Th...</td>\n",
       "      <td>female</td>\n",
       "      <td>38.0</td>\n",
       "      <td>1</td>\n",
       "      <td>0</td>\n",
       "      <td>PC 17599</td>\n",
       "      <td>71.2833</td>\n",
       "      <td>C85</td>\n",
       "      <td>C</td>\n",
       "    </tr>\n",
       "    <tr>\n",
       "      <th>2</th>\n",
       "      <td>3</td>\n",
       "      <td>1</td>\n",
       "      <td>3</td>\n",
       "      <td>Heikkinen, Miss. Laina</td>\n",
       "      <td>female</td>\n",
       "      <td>26.0</td>\n",
       "      <td>0</td>\n",
       "      <td>0</td>\n",
       "      <td>STON/O2. 3101282</td>\n",
       "      <td>7.9250</td>\n",
       "      <td>NaN</td>\n",
       "      <td>S</td>\n",
       "    </tr>\n",
       "    <tr>\n",
       "      <th>3</th>\n",
       "      <td>4</td>\n",
       "      <td>1</td>\n",
       "      <td>1</td>\n",
       "      <td>Futrelle, Mrs. Jacques Heath (Lily May Peel)</td>\n",
       "      <td>female</td>\n",
       "      <td>35.0</td>\n",
       "      <td>1</td>\n",
       "      <td>0</td>\n",
       "      <td>113803</td>\n",
       "      <td>53.1000</td>\n",
       "      <td>C123</td>\n",
       "      <td>S</td>\n",
       "    </tr>\n",
       "    <tr>\n",
       "      <th>4</th>\n",
       "      <td>5</td>\n",
       "      <td>0</td>\n",
       "      <td>3</td>\n",
       "      <td>Allen, Mr. William Henry</td>\n",
       "      <td>male</td>\n",
       "      <td>35.0</td>\n",
       "      <td>0</td>\n",
       "      <td>0</td>\n",
       "      <td>373450</td>\n",
       "      <td>8.0500</td>\n",
       "      <td>NaN</td>\n",
       "      <td>S</td>\n",
       "    </tr>\n",
       "  </tbody>\n",
       "</table>\n",
       "</div>"
      ],
      "text/plain": [
       "   PassengerId  Survived  Pclass  \\\n",
       "0            1         0       3   \n",
       "1            2         1       1   \n",
       "2            3         1       3   \n",
       "3            4         1       1   \n",
       "4            5         0       3   \n",
       "\n",
       "                                                Name     Sex   Age  SibSp  \\\n",
       "0                            Braund, Mr. Owen Harris    male  22.0      1   \n",
       "1  Cumings, Mrs. John Bradley (Florence Briggs Th...  female  38.0      1   \n",
       "2                             Heikkinen, Miss. Laina  female  26.0      0   \n",
       "3       Futrelle, Mrs. Jacques Heath (Lily May Peel)  female  35.0      1   \n",
       "4                           Allen, Mr. William Henry    male  35.0      0   \n",
       "\n",
       "   Parch            Ticket     Fare Cabin Embarked  \n",
       "0      0         A/5 21171   7.2500   NaN        S  \n",
       "1      0          PC 17599  71.2833   C85        C  \n",
       "2      0  STON/O2. 3101282   7.9250   NaN        S  \n",
       "3      0            113803  53.1000  C123        S  \n",
       "4      0            373450   8.0500   NaN        S  "
      ]
     },
     "execution_count": 4,
     "metadata": {},
     "output_type": "execute_result"
    }
   ],
   "source": [
    "train_data.head()"
   ]
  },
  {
   "cell_type": "code",
   "execution_count": 5,
   "id": "f225381a",
   "metadata": {
    "execution": {
     "iopub.execute_input": "2023-11-20T07:43:46.754322Z",
     "iopub.status.busy": "2023-11-20T07:43:46.753684Z",
     "iopub.status.idle": "2023-11-20T07:43:46.770797Z",
     "shell.execute_reply": "2023-11-20T07:43:46.769243Z"
    },
    "papermill": {
     "duration": 0.036201,
     "end_time": "2023-11-20T07:43:46.773634",
     "exception": false,
     "start_time": "2023-11-20T07:43:46.737433",
     "status": "completed"
    },
    "tags": []
   },
   "outputs": [
    {
     "data": {
      "text/html": [
       "<div>\n",
       "<style scoped>\n",
       "    .dataframe tbody tr th:only-of-type {\n",
       "        vertical-align: middle;\n",
       "    }\n",
       "\n",
       "    .dataframe tbody tr th {\n",
       "        vertical-align: top;\n",
       "    }\n",
       "\n",
       "    .dataframe thead th {\n",
       "        text-align: right;\n",
       "    }\n",
       "</style>\n",
       "<table border=\"1\" class=\"dataframe\">\n",
       "  <thead>\n",
       "    <tr style=\"text-align: right;\">\n",
       "      <th></th>\n",
       "      <th>PassengerId</th>\n",
       "      <th>Pclass</th>\n",
       "      <th>Name</th>\n",
       "      <th>Sex</th>\n",
       "      <th>Age</th>\n",
       "      <th>SibSp</th>\n",
       "      <th>Parch</th>\n",
       "      <th>Ticket</th>\n",
       "      <th>Fare</th>\n",
       "      <th>Cabin</th>\n",
       "      <th>Embarked</th>\n",
       "    </tr>\n",
       "  </thead>\n",
       "  <tbody>\n",
       "    <tr>\n",
       "      <th>0</th>\n",
       "      <td>892</td>\n",
       "      <td>3</td>\n",
       "      <td>Kelly, Mr. James</td>\n",
       "      <td>male</td>\n",
       "      <td>34.5</td>\n",
       "      <td>0</td>\n",
       "      <td>0</td>\n",
       "      <td>330911</td>\n",
       "      <td>7.8292</td>\n",
       "      <td>NaN</td>\n",
       "      <td>Q</td>\n",
       "    </tr>\n",
       "    <tr>\n",
       "      <th>1</th>\n",
       "      <td>893</td>\n",
       "      <td>3</td>\n",
       "      <td>Wilkes, Mrs. James (Ellen Needs)</td>\n",
       "      <td>female</td>\n",
       "      <td>47.0</td>\n",
       "      <td>1</td>\n",
       "      <td>0</td>\n",
       "      <td>363272</td>\n",
       "      <td>7.0000</td>\n",
       "      <td>NaN</td>\n",
       "      <td>S</td>\n",
       "    </tr>\n",
       "    <tr>\n",
       "      <th>2</th>\n",
       "      <td>894</td>\n",
       "      <td>2</td>\n",
       "      <td>Myles, Mr. Thomas Francis</td>\n",
       "      <td>male</td>\n",
       "      <td>62.0</td>\n",
       "      <td>0</td>\n",
       "      <td>0</td>\n",
       "      <td>240276</td>\n",
       "      <td>9.6875</td>\n",
       "      <td>NaN</td>\n",
       "      <td>Q</td>\n",
       "    </tr>\n",
       "    <tr>\n",
       "      <th>3</th>\n",
       "      <td>895</td>\n",
       "      <td>3</td>\n",
       "      <td>Wirz, Mr. Albert</td>\n",
       "      <td>male</td>\n",
       "      <td>27.0</td>\n",
       "      <td>0</td>\n",
       "      <td>0</td>\n",
       "      <td>315154</td>\n",
       "      <td>8.6625</td>\n",
       "      <td>NaN</td>\n",
       "      <td>S</td>\n",
       "    </tr>\n",
       "    <tr>\n",
       "      <th>4</th>\n",
       "      <td>896</td>\n",
       "      <td>3</td>\n",
       "      <td>Hirvonen, Mrs. Alexander (Helga E Lindqvist)</td>\n",
       "      <td>female</td>\n",
       "      <td>22.0</td>\n",
       "      <td>1</td>\n",
       "      <td>1</td>\n",
       "      <td>3101298</td>\n",
       "      <td>12.2875</td>\n",
       "      <td>NaN</td>\n",
       "      <td>S</td>\n",
       "    </tr>\n",
       "  </tbody>\n",
       "</table>\n",
       "</div>"
      ],
      "text/plain": [
       "   PassengerId  Pclass                                          Name     Sex  \\\n",
       "0          892       3                              Kelly, Mr. James    male   \n",
       "1          893       3              Wilkes, Mrs. James (Ellen Needs)  female   \n",
       "2          894       2                     Myles, Mr. Thomas Francis    male   \n",
       "3          895       3                              Wirz, Mr. Albert    male   \n",
       "4          896       3  Hirvonen, Mrs. Alexander (Helga E Lindqvist)  female   \n",
       "\n",
       "    Age  SibSp  Parch   Ticket     Fare Cabin Embarked  \n",
       "0  34.5      0      0   330911   7.8292   NaN        Q  \n",
       "1  47.0      1      0   363272   7.0000   NaN        S  \n",
       "2  62.0      0      0   240276   9.6875   NaN        Q  \n",
       "3  27.0      0      0   315154   8.6625   NaN        S  \n",
       "4  22.0      1      1  3101298  12.2875   NaN        S  "
      ]
     },
     "execution_count": 5,
     "metadata": {},
     "output_type": "execute_result"
    }
   ],
   "source": [
    "test_data.head()"
   ]
  },
  {
   "cell_type": "code",
   "execution_count": 6,
   "id": "19b2982a",
   "metadata": {
    "execution": {
     "iopub.execute_input": "2023-11-20T07:43:46.806898Z",
     "iopub.status.busy": "2023-11-20T07:43:46.805319Z",
     "iopub.status.idle": "2023-11-20T07:43:46.817025Z",
     "shell.execute_reply": "2023-11-20T07:43:46.816048Z"
    },
    "papermill": {
     "duration": 0.031152,
     "end_time": "2023-11-20T07:43:46.819704",
     "exception": false,
     "start_time": "2023-11-20T07:43:46.788552",
     "status": "completed"
    },
    "tags": []
   },
   "outputs": [
    {
     "data": {
      "text/html": [
       "<div>\n",
       "<style scoped>\n",
       "    .dataframe tbody tr th:only-of-type {\n",
       "        vertical-align: middle;\n",
       "    }\n",
       "\n",
       "    .dataframe tbody tr th {\n",
       "        vertical-align: top;\n",
       "    }\n",
       "\n",
       "    .dataframe thead th {\n",
       "        text-align: right;\n",
       "    }\n",
       "</style>\n",
       "<table border=\"1\" class=\"dataframe\">\n",
       "  <thead>\n",
       "    <tr style=\"text-align: right;\">\n",
       "      <th></th>\n",
       "      <th>PassengerId</th>\n",
       "      <th>Survived</th>\n",
       "    </tr>\n",
       "  </thead>\n",
       "  <tbody>\n",
       "    <tr>\n",
       "      <th>0</th>\n",
       "      <td>892</td>\n",
       "      <td>0</td>\n",
       "    </tr>\n",
       "    <tr>\n",
       "      <th>1</th>\n",
       "      <td>893</td>\n",
       "      <td>1</td>\n",
       "    </tr>\n",
       "    <tr>\n",
       "      <th>2</th>\n",
       "      <td>894</td>\n",
       "      <td>0</td>\n",
       "    </tr>\n",
       "    <tr>\n",
       "      <th>3</th>\n",
       "      <td>895</td>\n",
       "      <td>0</td>\n",
       "    </tr>\n",
       "    <tr>\n",
       "      <th>4</th>\n",
       "      <td>896</td>\n",
       "      <td>1</td>\n",
       "    </tr>\n",
       "  </tbody>\n",
       "</table>\n",
       "</div>"
      ],
      "text/plain": [
       "   PassengerId  Survived\n",
       "0          892         0\n",
       "1          893         1\n",
       "2          894         0\n",
       "3          895         0\n",
       "4          896         1"
      ]
     },
     "execution_count": 6,
     "metadata": {},
     "output_type": "execute_result"
    }
   ],
   "source": [
    "passId_data.head()"
   ]
  },
  {
   "cell_type": "markdown",
   "id": "215f7738",
   "metadata": {
    "papermill": {
     "duration": 0.015129,
     "end_time": "2023-11-20T07:43:46.913604",
     "exception": false,
     "start_time": "2023-11-20T07:43:46.898475",
     "status": "completed"
    },
    "tags": []
   },
   "source": [
    "*  **`PassengerId`** - unique identification of each passenger\n",
    "*  **`Survived`** - represents the life or death of a passenger:  \n",
    "      -  **1 - Survived**  \n",
    "      -  **2 - Not Survived**\n",
    "*  **`Pclass`** - passenger's socioeconomic status (passenger class) and is an ordinal characteristic with **3** unique values:  \n",
    "      -  **1 - Upper Class**  \n",
    "      -  **2 - Middle Class**  \n",
    "      -  **3 - Lower Class**  \n",
    "*  **`Name, Sex, and Age`** - passenger's name, sexual identification, and age, respectively  \n",
    "*  **`SibSp`** - total number of passenger's siblings and spouses  \n",
    "*  **`Parch`** - total number of passenger's parents and children  \n",
    "*  **`Ticket`** - passenger's ticket number  \n",
    "*  **`Fare`** - ticket price  \n",
    "*  **`Cabin`** - passenger's cabin number  \n",
    "*  **`Embarked`** - port of entry: this is a categorical feature with **3** unique values:  \n",
    "      -  **C - Cherbourg**  \n",
    "      -  **Q - Queenstown**  \n",
    "      -  **S - Southampton**"
   ]
  },
  {
   "cell_type": "code",
   "execution_count": 7,
   "id": "51753207",
   "metadata": {
    "execution": {
     "iopub.execute_input": "2023-11-20T07:43:46.946948Z",
     "iopub.status.busy": "2023-11-20T07:43:46.946069Z",
     "iopub.status.idle": "2023-11-20T07:43:47.059003Z",
     "shell.execute_reply": "2023-11-20T07:43:47.057614Z"
    },
    "papermill": {
     "duration": 0.132888,
     "end_time": "2023-11-20T07:43:47.061709",
     "exception": false,
     "start_time": "2023-11-20T07:43:46.928821",
     "status": "completed"
    },
    "tags": []
   },
   "outputs": [
    {
     "data": {
      "text/html": [
       "<style type=\"text/css\">\n",
       "</style>\n",
       "<table id=\"T_1ab0e\" style='display:inline; margin-right:20px;'>\n",
       "  <caption>Train Dataset</caption>\n",
       "  <thead>\n",
       "    <tr>\n",
       "      <th class=\"blank level0\" >&nbsp;</th>\n",
       "      <th id=\"T_1ab0e_level0_col0\" class=\"col_heading level0 col0\" >0</th>\n",
       "    </tr>\n",
       "  </thead>\n",
       "  <tbody>\n",
       "    <tr>\n",
       "      <th id=\"T_1ab0e_level0_row0\" class=\"row_heading level0 row0\" >PassengerId</th>\n",
       "      <td id=\"T_1ab0e_row0_col0\" class=\"data row0 col0\" >0</td>\n",
       "    </tr>\n",
       "    <tr>\n",
       "      <th id=\"T_1ab0e_level0_row1\" class=\"row_heading level0 row1\" >Survived</th>\n",
       "      <td id=\"T_1ab0e_row1_col0\" class=\"data row1 col0\" >0</td>\n",
       "    </tr>\n",
       "    <tr>\n",
       "      <th id=\"T_1ab0e_level0_row2\" class=\"row_heading level0 row2\" >Pclass</th>\n",
       "      <td id=\"T_1ab0e_row2_col0\" class=\"data row2 col0\" >0</td>\n",
       "    </tr>\n",
       "    <tr>\n",
       "      <th id=\"T_1ab0e_level0_row3\" class=\"row_heading level0 row3\" >Name</th>\n",
       "      <td id=\"T_1ab0e_row3_col0\" class=\"data row3 col0\" >0</td>\n",
       "    </tr>\n",
       "    <tr>\n",
       "      <th id=\"T_1ab0e_level0_row4\" class=\"row_heading level0 row4\" >Sex</th>\n",
       "      <td id=\"T_1ab0e_row4_col0\" class=\"data row4 col0\" >0</td>\n",
       "    </tr>\n",
       "    <tr>\n",
       "      <th id=\"T_1ab0e_level0_row5\" class=\"row_heading level0 row5\" >Age</th>\n",
       "      <td id=\"T_1ab0e_row5_col0\" class=\"data row5 col0\" >177</td>\n",
       "    </tr>\n",
       "    <tr>\n",
       "      <th id=\"T_1ab0e_level0_row6\" class=\"row_heading level0 row6\" >SibSp</th>\n",
       "      <td id=\"T_1ab0e_row6_col0\" class=\"data row6 col0\" >0</td>\n",
       "    </tr>\n",
       "    <tr>\n",
       "      <th id=\"T_1ab0e_level0_row7\" class=\"row_heading level0 row7\" >Parch</th>\n",
       "      <td id=\"T_1ab0e_row7_col0\" class=\"data row7 col0\" >0</td>\n",
       "    </tr>\n",
       "    <tr>\n",
       "      <th id=\"T_1ab0e_level0_row8\" class=\"row_heading level0 row8\" >Ticket</th>\n",
       "      <td id=\"T_1ab0e_row8_col0\" class=\"data row8 col0\" >0</td>\n",
       "    </tr>\n",
       "    <tr>\n",
       "      <th id=\"T_1ab0e_level0_row9\" class=\"row_heading level0 row9\" >Fare</th>\n",
       "      <td id=\"T_1ab0e_row9_col0\" class=\"data row9 col0\" >0</td>\n",
       "    </tr>\n",
       "    <tr>\n",
       "      <th id=\"T_1ab0e_level0_row10\" class=\"row_heading level0 row10\" >Cabin</th>\n",
       "      <td id=\"T_1ab0e_row10_col0\" class=\"data row10 col0\" >687</td>\n",
       "    </tr>\n",
       "    <tr>\n",
       "      <th id=\"T_1ab0e_level0_row11\" class=\"row_heading level0 row11\" >Embarked</th>\n",
       "      <td id=\"T_1ab0e_row11_col0\" class=\"data row11 col0\" >2</td>\n",
       "    </tr>\n",
       "  </tbody>\n",
       "</table>\n",
       "<style type=\"text/css\">\n",
       "</style>\n",
       "<table id=\"T_e7a89\" style='display:inline'>\n",
       "  <caption>Test Dataset</caption>\n",
       "  <thead>\n",
       "    <tr>\n",
       "      <th class=\"blank level0\" >&nbsp;</th>\n",
       "      <th id=\"T_e7a89_level0_col0\" class=\"col_heading level0 col0\" >0</th>\n",
       "    </tr>\n",
       "  </thead>\n",
       "  <tbody>\n",
       "    <tr>\n",
       "      <th id=\"T_e7a89_level0_row0\" class=\"row_heading level0 row0\" >PassengerId</th>\n",
       "      <td id=\"T_e7a89_row0_col0\" class=\"data row0 col0\" >0</td>\n",
       "    </tr>\n",
       "    <tr>\n",
       "      <th id=\"T_e7a89_level0_row1\" class=\"row_heading level0 row1\" >Pclass</th>\n",
       "      <td id=\"T_e7a89_row1_col0\" class=\"data row1 col0\" >0</td>\n",
       "    </tr>\n",
       "    <tr>\n",
       "      <th id=\"T_e7a89_level0_row2\" class=\"row_heading level0 row2\" >Name</th>\n",
       "      <td id=\"T_e7a89_row2_col0\" class=\"data row2 col0\" >0</td>\n",
       "    </tr>\n",
       "    <tr>\n",
       "      <th id=\"T_e7a89_level0_row3\" class=\"row_heading level0 row3\" >Sex</th>\n",
       "      <td id=\"T_e7a89_row3_col0\" class=\"data row3 col0\" >0</td>\n",
       "    </tr>\n",
       "    <tr>\n",
       "      <th id=\"T_e7a89_level0_row4\" class=\"row_heading level0 row4\" >Age</th>\n",
       "      <td id=\"T_e7a89_row4_col0\" class=\"data row4 col0\" >86</td>\n",
       "    </tr>\n",
       "    <tr>\n",
       "      <th id=\"T_e7a89_level0_row5\" class=\"row_heading level0 row5\" >SibSp</th>\n",
       "      <td id=\"T_e7a89_row5_col0\" class=\"data row5 col0\" >0</td>\n",
       "    </tr>\n",
       "    <tr>\n",
       "      <th id=\"T_e7a89_level0_row6\" class=\"row_heading level0 row6\" >Parch</th>\n",
       "      <td id=\"T_e7a89_row6_col0\" class=\"data row6 col0\" >0</td>\n",
       "    </tr>\n",
       "    <tr>\n",
       "      <th id=\"T_e7a89_level0_row7\" class=\"row_heading level0 row7\" >Ticket</th>\n",
       "      <td id=\"T_e7a89_row7_col0\" class=\"data row7 col0\" >0</td>\n",
       "    </tr>\n",
       "    <tr>\n",
       "      <th id=\"T_e7a89_level0_row8\" class=\"row_heading level0 row8\" >Fare</th>\n",
       "      <td id=\"T_e7a89_row8_col0\" class=\"data row8 col0\" >1</td>\n",
       "    </tr>\n",
       "    <tr>\n",
       "      <th id=\"T_e7a89_level0_row9\" class=\"row_heading level0 row9\" >Cabin</th>\n",
       "      <td id=\"T_e7a89_row9_col0\" class=\"data row9 col0\" >327</td>\n",
       "    </tr>\n",
       "    <tr>\n",
       "      <th id=\"T_e7a89_level0_row10\" class=\"row_heading level0 row10\" >Embarked</th>\n",
       "      <td id=\"T_e7a89_row10_col0\" class=\"data row10 col0\" >0</td>\n",
       "    </tr>\n",
       "  </tbody>\n",
       "</table>\n"
      ]
     },
     "metadata": {},
     "output_type": "display_data"
    }
   ],
   "source": [
    "# Get the number of null values for each column\n",
    "from IPython.display import display_html \n",
    "\n",
    "df1 = train_data.isnull().sum().to_frame()\n",
    "df2 = test_data.isnull().sum().to_frame()\n",
    "\n",
    "df1_style = df1.style.set_table_attributes(\"style='display:inline; margin-right:20px;'\").set_caption(\"Train Dataset\")\n",
    "df2_style = df2.style.set_table_attributes(\"style='display:inline'\").set_caption(\"Test Dataset\")\n",
    "\n",
    "display_html(df1_style._repr_html_() + df2_style._repr_html_(), raw=True)"
   ]
  },
  {
   "cell_type": "markdown",
   "id": "0c373237",
   "metadata": {
    "papermill": {
     "duration": 0.015487,
     "end_time": "2023-11-20T07:43:47.093014",
     "exception": false,
     "start_time": "2023-11-20T07:43:47.077527",
     "status": "completed"
    },
    "tags": []
   },
   "source": [
    "<a id='step-3'></a>\n",
    "<div class=\"alert alert-block alert-info\">\n",
    "<b>STEP 3:</b> Feature Engineering with Exploratory Data Analysis (EDA)\n",
    "</div>"
   ]
  },
  {
   "cell_type": "markdown",
   "id": "71cbe64d",
   "metadata": {
    "papermill": {
     "duration": 0.015589,
     "end_time": "2023-11-20T07:43:47.124649",
     "exception": false,
     "start_time": "2023-11-20T07:43:47.109060",
     "status": "completed"
    },
    "tags": []
   },
   "source": [
    "Study of survival rate based on the **Sex** category"
   ]
  },
  {
   "cell_type": "code",
   "execution_count": 8,
   "id": "8fc94d28",
   "metadata": {
    "execution": {
     "iopub.execute_input": "2023-11-20T07:43:47.159294Z",
     "iopub.status.busy": "2023-11-20T07:43:47.158564Z",
     "iopub.status.idle": "2023-11-20T07:43:47.495666Z",
     "shell.execute_reply": "2023-11-20T07:43:47.494107Z"
    },
    "papermill": {
     "duration": 0.358357,
     "end_time": "2023-11-20T07:43:47.498725",
     "exception": false,
     "start_time": "2023-11-20T07:43:47.140368",
     "status": "completed"
    },
    "tags": []
   },
   "outputs": [
    {
     "name": "stdout",
     "output_type": "stream",
     "text": [
      "Out of 314 females, 233 (74.20%) have survived, while\n",
      "out of 577 males, 109 (18.89%) have survived.\n"
     ]
    },
    {
     "data": {
      "image/png": "[encoded data removed]",
      "text/plain": [
       "<Figure size 300x300 with 1 Axes>"
      ]
     },
     "metadata": {},
     "output_type": "display_data"
    },
    {
     "name": "stdout",
     "output_type": "stream",
     "text": [
      "Based on the above data, female passengers have a higher chance of survival.\n",
      "This could be because women and female children were given the priority in saving lives.\n"
     ]
    }
   ],
   "source": [
    "# Separate male and female passengers\n",
    "females = train_data.loc[train_data.Sex == 'female']['Survived']\n",
    "males = train_data.loc[train_data.Sex == 'male']['Survived']\n",
    "\n",
    "# Survivor rates based on sex\n",
    "rate_females = (sum(females) / len(females)) * 100\n",
    "rate_males = (sum(males) / len(males)) * 100\n",
    "\n",
    "print(f'''Out of {len(females)} females, {sum(females)} ({rate_females:.2f}%) have survived, while\n",
    "out of {len(males)} males, {sum(males)} ({rate_males:.2f}%) have survived.''')\n",
    "\n",
    "# Graphical Presentation\n",
    "sns.countplot(data=train_data, x='Sex', hue='Survived', palette=['#EE4000', 'cornflowerblue'])\n",
    "plt.xlabel('Sex')\n",
    "plt.ylabel('No. of Passengers')\n",
    "plt.title('Sex Distribution')\n",
    "plt.show()\n",
    "\n",
    "# Analysis on the data:\n",
    "print(f'''Based on the above data, female passengers have a higher chance of survival.\n",
    "This could be because women and female children were given the priority in saving lives.''')"
   ]
  },
  {
   "cell_type": "markdown",
   "id": "eaaf7762",
   "metadata": {
    "papermill": {
     "duration": 0.016066,
     "end_time": "2023-11-20T07:43:47.531835",
     "exception": false,
     "start_time": "2023-11-20T07:43:47.515769",
     "status": "completed"
    },
    "tags": []
   },
   "source": [
    "Fill in missing Age values"
   ]
  },
  {
   "cell_type": "code",
   "execution_count": 9,
   "id": "360998e4",
   "metadata": {
    "execution": {
     "iopub.execute_input": "2023-11-20T07:43:47.566611Z",
     "iopub.status.busy": "2023-11-20T07:43:47.566158Z",
     "iopub.status.idle": "2023-11-20T07:43:47.581660Z",
     "shell.execute_reply": "2023-11-20T07:43:47.580253Z"
    },
    "papermill": {
     "duration": 0.036696,
     "end_time": "2023-11-20T07:43:47.585017",
     "exception": false,
     "start_time": "2023-11-20T07:43:47.548321",
     "status": "completed"
    },
    "tags": []
   },
   "outputs": [],
   "source": [
    "for data in [train_data, test_data]:\n",
    "    mean = train_data['Age'].mean()\n",
    "    std = train_data['Age'].std()\n",
    "    data_null = data['Age'].isnull().sum()\n",
    "    \n",
    "    # Compute random numbers between one std from the mean\n",
    "    data_age_random = np.random.randint(mean - std, mean + std, size=data_null)\n",
    "    \n",
    "    # Fill NaN values with generated random ages\n",
    "    data_age = data['Age'].copy()\n",
    "    data_age[np.isnan(data_age)] = data_age_random\n",
    "    data['Age'] = data_age\n",
    "    data['Age'] = data[\"Age\"].astype(int)"
   ]
  },
  {
   "cell_type": "markdown",
   "id": "aed0219f",
   "metadata": {
    "papermill": {
     "duration": 0.016894,
     "end_time": "2023-11-20T07:43:47.619725",
     "exception": false,
     "start_time": "2023-11-20T07:43:47.602831",
     "status": "completed"
    },
    "tags": []
   },
   "source": [
    "Get the Survival Rate based on **Age** and **Sex**"
   ]
  },
  {
   "cell_type": "code",
   "execution_count": 10,
   "id": "b26a0485",
   "metadata": {
    "execution": {
     "iopub.execute_input": "2023-11-20T07:43:47.658245Z",
     "iopub.status.busy": "2023-11-20T07:43:47.657842Z",
     "iopub.status.idle": "2023-11-20T07:43:48.887996Z",
     "shell.execute_reply": "2023-11-20T07:43:48.886414Z"
    },
    "papermill": {
     "duration": 1.255805,
     "end_time": "2023-11-20T07:43:48.892887",
     "exception": false,
     "start_time": "2023-11-20T07:43:47.637082",
     "status": "completed"
    },
    "tags": []
   },
   "outputs": [
    {
     "data": {
      "image/png": "[encoded data removed]",
      "text/plain": [
       "<Figure size 900x300 with 3 Axes>"
      ]
     },
     "metadata": {},
     "output_type": "display_data"
    },
    {
     "name": "stdout",
     "output_type": "stream",
     "text": [
      "Based on the above data, bulk of the passengers were on their 20's to 40's.\n",
      "And on this age bracket, is where the rate of survival is the highest.\n"
     ]
    }
   ],
   "source": [
    "women = train_data[train_data['Sex'] == 'female']\n",
    "men = train_data[train_data['Sex'] == 'male']\n",
    "\n",
    "fig, axs = plt.subplots(nrows=1, ncols=3, figsize=(9, 3))\n",
    "ax1 = sns.histplot(train_data[train_data['Survived'] == 1].Age, bins=18, label = 'Survived', ax=axs[0], color='cornflowerblue')\n",
    "ax1 = sns.histplot(train_data[train_data['Survived'] == 0].Age, bins=18, label = 'Not Survived', ax=axs[0], color='#EE4000')\n",
    "ax1.legend()\n",
    "ax1.set_title('All Passengers')\n",
    "ax2 = sns.histplot(women[women['Survived'] == 1].Age, bins=18, label = 'Survived', ax=axs[1], color='cornflowerblue')\n",
    "ax2 = sns.histplot(women[women['Survived'] == 0].Age, bins=18, label = 'Not Survived', ax=axs[1], color='#EE4000')\n",
    "ax2.legend()\n",
    "ax2.set_title('Female Passengers')\n",
    "ax3 = sns.histplot(men[men['Survived'] == 1].Age, bins=18, label = 'Survived', ax=axs[2], color='cornflowerblue')\n",
    "ax3 = sns.histplot(men[men['Survived'] == 0].Age, bins=18, label = 'Not Survived', ax=axs[2], color='#EE4000')\n",
    "ax3.legend()\n",
    "ax3.set_title('Male Passengers')\n",
    "plt.show()\n",
    "\n",
    "# Analysis on the data:\n",
    "print(f\"\"\"Based on the above data, bulk of the passengers were on their 20's to 40's.\n",
    "And on this age bracket, is where the rate of survival is the highest.\"\"\")"
   ]
  },
  {
   "cell_type": "markdown",
   "id": "bdfd0815",
   "metadata": {
    "papermill": {
     "duration": 0.017883,
     "end_time": "2023-11-20T07:43:48.929538",
     "exception": false,
     "start_time": "2023-11-20T07:43:48.911655",
     "status": "completed"
    },
    "tags": []
   },
   "source": [
    "Fill in the missing values of the **Embarked** Feature"
   ]
  },
  {
   "cell_type": "code",
   "execution_count": 11,
   "id": "bb7078eb",
   "metadata": {
    "execution": {
     "iopub.execute_input": "2023-11-20T07:43:48.968112Z",
     "iopub.status.busy": "2023-11-20T07:43:48.967681Z",
     "iopub.status.idle": "2023-11-20T07:43:48.977717Z",
     "shell.execute_reply": "2023-11-20T07:43:48.976355Z"
    },
    "papermill": {
     "duration": 0.032726,
     "end_time": "2023-11-20T07:43:48.980374",
     "exception": false,
     "start_time": "2023-11-20T07:43:48.947648",
     "status": "completed"
    },
    "tags": []
   },
   "outputs": [],
   "source": [
    "# We will use mode in filling in missing Embarked values\n",
    "mode = train_data['Embarked'].mode()\n",
    "for data in [train_data, test_data]:\n",
    "    data['Embarked'] = data['Embarked'].fillna(mode[0])"
   ]
  },
  {
   "cell_type": "markdown",
   "id": "75a74436",
   "metadata": {
    "papermill": {
     "duration": 0.019229,
     "end_time": "2023-11-20T07:43:49.018508",
     "exception": false,
     "start_time": "2023-11-20T07:43:48.999279",
     "status": "completed"
    },
    "tags": []
   },
   "source": [
    "Get the Survival Rate based on **Embarked** location"
   ]
  },
  {
   "cell_type": "code",
   "execution_count": 12,
   "id": "99eb2869",
   "metadata": {
    "execution": {
     "iopub.execute_input": "2023-11-20T07:43:49.057616Z",
     "iopub.status.busy": "2023-11-20T07:43:49.056201Z",
     "iopub.status.idle": "2023-11-20T07:43:49.081333Z",
     "shell.execute_reply": "2023-11-20T07:43:49.080002Z"
    },
    "papermill": {
     "duration": 0.047058,
     "end_time": "2023-11-20T07:43:49.084130",
     "exception": false,
     "start_time": "2023-11-20T07:43:49.037072",
     "status": "completed"
    },
    "tags": []
   },
   "outputs": [
    {
     "data": {
      "text/html": [
       "<div>\n",
       "<style scoped>\n",
       "    .dataframe tbody tr th:only-of-type {\n",
       "        vertical-align: middle;\n",
       "    }\n",
       "\n",
       "    .dataframe tbody tr th {\n",
       "        vertical-align: top;\n",
       "    }\n",
       "\n",
       "    .dataframe thead th {\n",
       "        text-align: right;\n",
       "    }\n",
       "</style>\n",
       "<table border=\"1\" class=\"dataframe\">\n",
       "  <thead>\n",
       "    <tr style=\"text-align: right;\">\n",
       "      <th></th>\n",
       "      <th>sum</th>\n",
       "      <th>count</th>\n",
       "      <th>mean</th>\n",
       "    </tr>\n",
       "    <tr>\n",
       "      <th>Embarked</th>\n",
       "      <th></th>\n",
       "      <th></th>\n",
       "      <th></th>\n",
       "    </tr>\n",
       "  </thead>\n",
       "  <tbody>\n",
       "    <tr>\n",
       "      <th>C</th>\n",
       "      <td>93</td>\n",
       "      <td>168</td>\n",
       "      <td>0.553571</td>\n",
       "    </tr>\n",
       "    <tr>\n",
       "      <th>Q</th>\n",
       "      <td>30</td>\n",
       "      <td>77</td>\n",
       "      <td>0.389610</td>\n",
       "    </tr>\n",
       "    <tr>\n",
       "      <th>S</th>\n",
       "      <td>219</td>\n",
       "      <td>646</td>\n",
       "      <td>0.339009</td>\n",
       "    </tr>\n",
       "  </tbody>\n",
       "</table>\n",
       "</div>"
      ],
      "text/plain": [
       "          sum  count      mean\n",
       "Embarked                      \n",
       "C          93    168  0.553571\n",
       "Q          30     77  0.389610\n",
       "S         219    646  0.339009"
      ]
     },
     "execution_count": 12,
     "metadata": {},
     "output_type": "execute_result"
    }
   ],
   "source": [
    "embarked = train_data.groupby(['Embarked'])['Survived'].aggregate(['sum', 'count', 'mean'])\n",
    "embarked"
   ]
  },
  {
   "cell_type": "code",
   "execution_count": 13,
   "id": "3a87d390",
   "metadata": {
    "execution": {
     "iopub.execute_input": "2023-11-20T07:43:49.122274Z",
     "iopub.status.busy": "2023-11-20T07:43:49.121750Z",
     "iopub.status.idle": "2023-11-20T07:43:50.965947Z",
     "shell.execute_reply": "2023-11-20T07:43:50.964416Z"
    },
    "papermill": {
     "duration": 1.868448,
     "end_time": "2023-11-20T07:43:50.970313",
     "exception": false,
     "start_time": "2023-11-20T07:43:49.101865",
     "status": "completed"
    },
    "tags": []
   },
   "outputs": [
    {
     "data": {
      "image/png": "[encoded data removed]",
      "text/plain": [
       "<Figure size 978.625x300 with 3 Axes>"
      ]
     },
     "metadata": {},
     "output_type": "display_data"
    },
    {
     "name": "stdout",
     "output_type": "stream",
     "text": [
      "From the above dataframe, passengers embarked from Cherbourg (C) has the highest\n",
      "survival rate among others embarked locations.\n"
     ]
    }
   ],
   "source": [
    "g = sns.FacetGrid(train_data, col='Embarked', aspect=1)\n",
    "g.map(sns.pointplot, 'Pclass', 'Survived', 'Sex', order=None, hue_order=None, palette='dark:#e24a33')\n",
    "g.add_legend()\n",
    "plt.show()\n",
    "\n",
    "# Analysis on the data:\n",
    "print(f\"\"\"From the above dataframe, passengers embarked from Cherbourg (C) has the highest\n",
    "survival rate among others embarked locations.\"\"\")"
   ]
  },
  {
   "cell_type": "markdown",
   "id": "e92a12b5",
   "metadata": {
    "papermill": {
     "duration": 0.02099,
     "end_time": "2023-11-20T07:43:51.010972",
     "exception": false,
     "start_time": "2023-11-20T07:43:50.989982",
     "status": "completed"
    },
    "tags": []
   },
   "source": [
    "EDA of columns **SibSp** and **Parch**"
   ]
  },
  {
   "cell_type": "code",
   "execution_count": 14,
   "id": "55b03741",
   "metadata": {
    "execution": {
     "iopub.execute_input": "2023-11-20T07:43:51.052429Z",
     "iopub.status.busy": "2023-11-20T07:43:51.052011Z",
     "iopub.status.idle": "2023-11-20T07:43:51.080886Z",
     "shell.execute_reply": "2023-11-20T07:43:51.079176Z"
    },
    "papermill": {
     "duration": 0.053198,
     "end_time": "2023-11-20T07:43:51.083842",
     "exception": false,
     "start_time": "2023-11-20T07:43:51.030644",
     "status": "completed"
    },
    "tags": []
   },
   "outputs": [
    {
     "data": {
      "text/html": [
       "<div>\n",
       "<style scoped>\n",
       "    .dataframe tbody tr th:only-of-type {\n",
       "        vertical-align: middle;\n",
       "    }\n",
       "\n",
       "    .dataframe tbody tr th {\n",
       "        vertical-align: top;\n",
       "    }\n",
       "\n",
       "    .dataframe thead tr th {\n",
       "        text-align: left;\n",
       "    }\n",
       "\n",
       "    .dataframe thead tr:last-of-type th {\n",
       "        text-align: right;\n",
       "    }\n",
       "</style>\n",
       "<table border=\"1\" class=\"dataframe\">\n",
       "  <thead>\n",
       "    <tr>\n",
       "      <th></th>\n",
       "      <th colspan=\"3\" halign=\"left\">Survived</th>\n",
       "    </tr>\n",
       "    <tr>\n",
       "      <th></th>\n",
       "      <th>sum</th>\n",
       "      <th>count</th>\n",
       "      <th>mean</th>\n",
       "    </tr>\n",
       "    <tr>\n",
       "      <th>Relatives</th>\n",
       "      <th></th>\n",
       "      <th></th>\n",
       "      <th></th>\n",
       "    </tr>\n",
       "  </thead>\n",
       "  <tbody>\n",
       "    <tr>\n",
       "      <th>0</th>\n",
       "      <td>163</td>\n",
       "      <td>537</td>\n",
       "      <td>0.303538</td>\n",
       "    </tr>\n",
       "    <tr>\n",
       "      <th>1</th>\n",
       "      <td>89</td>\n",
       "      <td>161</td>\n",
       "      <td>0.552795</td>\n",
       "    </tr>\n",
       "    <tr>\n",
       "      <th>2</th>\n",
       "      <td>59</td>\n",
       "      <td>102</td>\n",
       "      <td>0.578431</td>\n",
       "    </tr>\n",
       "    <tr>\n",
       "      <th>3</th>\n",
       "      <td>21</td>\n",
       "      <td>29</td>\n",
       "      <td>0.724138</td>\n",
       "    </tr>\n",
       "    <tr>\n",
       "      <th>4</th>\n",
       "      <td>3</td>\n",
       "      <td>15</td>\n",
       "      <td>0.200000</td>\n",
       "    </tr>\n",
       "    <tr>\n",
       "      <th>5</th>\n",
       "      <td>3</td>\n",
       "      <td>22</td>\n",
       "      <td>0.136364</td>\n",
       "    </tr>\n",
       "    <tr>\n",
       "      <th>6</th>\n",
       "      <td>4</td>\n",
       "      <td>12</td>\n",
       "      <td>0.333333</td>\n",
       "    </tr>\n",
       "    <tr>\n",
       "      <th>7</th>\n",
       "      <td>0</td>\n",
       "      <td>6</td>\n",
       "      <td>0.000000</td>\n",
       "    </tr>\n",
       "    <tr>\n",
       "      <th>10</th>\n",
       "      <td>0</td>\n",
       "      <td>7</td>\n",
       "      <td>0.000000</td>\n",
       "    </tr>\n",
       "  </tbody>\n",
       "</table>\n",
       "</div>"
      ],
      "text/plain": [
       "          Survived                \n",
       "               sum count      mean\n",
       "Relatives                         \n",
       "0              163   537  0.303538\n",
       "1               89   161  0.552795\n",
       "2               59   102  0.578431\n",
       "3               21    29  0.724138\n",
       "4                3    15  0.200000\n",
       "5                3    22  0.136364\n",
       "6                4    12  0.333333\n",
       "7                0     6  0.000000\n",
       "10               0     7  0.000000"
      ]
     },
     "execution_count": 14,
     "metadata": {},
     "output_type": "execute_result"
    }
   ],
   "source": [
    "for data in [train_data, test_data]:\n",
    "    data['Relatives'] = data['SibSp'] + data['Parch']\n",
    "    data.loc[data['Relatives'] > 0, 'SoloTraveller'] = 'No'\n",
    "    data.loc[data['Relatives'] == 0, 'SoloTraveller'] = 'Yes'\n",
    "    \n",
    "traveller = train_data.groupby(['Relatives'])[['Survived']].aggregate(['sum', 'count', 'mean'])\n",
    "traveller"
   ]
  },
  {
   "cell_type": "code",
   "execution_count": 15,
   "id": "3d61d516",
   "metadata": {
    "execution": {
     "iopub.execute_input": "2023-11-20T07:43:51.124451Z",
     "iopub.status.busy": "2023-11-20T07:43:51.123956Z",
     "iopub.status.idle": "2023-11-20T07:43:51.917254Z",
     "shell.execute_reply": "2023-11-20T07:43:51.916103Z"
    },
    "papermill": {
     "duration": 0.81686,
     "end_time": "2023-11-20T07:43:51.919873",
     "exception": false,
     "start_time": "2023-11-20T07:43:51.103013",
     "status": "completed"
    },
    "tags": []
   },
   "outputs": [
    {
     "data": {
      "image/png": "[encoded data removed]",
      "text/plain": [
       "<Figure size 1500x500 with 1 Axes>"
      ]
     },
     "metadata": {},
     "output_type": "display_data"
    },
    {
     "name": "stdout",
     "output_type": "stream",
     "text": [
      "\n",
      "As seen on the data, chance of survival increases for persons having at most 3 relatives on board with them.\n",
      "It is then increases as the number of relatives increases from 3.\n"
     ]
    }
   ],
   "source": [
    "sns.catplot(x=\"Relatives\", y=\"Survived\", kind=\"point\", data=train_data, aspect=3)\n",
    "plt.show()\n",
    "\n",
    "# Analysis on the data:\n",
    "print(f\"\"\"\\nAs seen on the data, chance of survival increases for persons having at most 3 relatives on board with them.\n",
    "It is then increases as the number of relatives increases from 3.\"\"\")"
   ]
  },
  {
   "cell_type": "markdown",
   "id": "af440d84",
   "metadata": {
    "papermill": {
     "duration": 0.019754,
     "end_time": "2023-11-20T07:43:51.959930",
     "exception": false,
     "start_time": "2023-11-20T07:43:51.940176",
     "status": "completed"
    },
    "tags": []
   },
   "source": [
    "We can simplify the data above by adding a new column and identifying if the passenger travels alone or not."
   ]
  },
  {
   "cell_type": "code",
   "execution_count": 16,
   "id": "67be2a8f",
   "metadata": {
    "execution": {
     "iopub.execute_input": "2023-11-20T07:43:52.002773Z",
     "iopub.status.busy": "2023-11-20T07:43:52.001055Z",
     "iopub.status.idle": "2023-11-20T07:43:52.022328Z",
     "shell.execute_reply": "2023-11-20T07:43:52.021128Z"
    },
    "papermill": {
     "duration": 0.045384,
     "end_time": "2023-11-20T07:43:52.024836",
     "exception": false,
     "start_time": "2023-11-20T07:43:51.979452",
     "status": "completed"
    },
    "tags": []
   },
   "outputs": [
    {
     "data": {
      "text/html": [
       "<div>\n",
       "<style scoped>\n",
       "    .dataframe tbody tr th:only-of-type {\n",
       "        vertical-align: middle;\n",
       "    }\n",
       "\n",
       "    .dataframe tbody tr th {\n",
       "        vertical-align: top;\n",
       "    }\n",
       "\n",
       "    .dataframe thead tr th {\n",
       "        text-align: left;\n",
       "    }\n",
       "\n",
       "    .dataframe thead tr:last-of-type th {\n",
       "        text-align: right;\n",
       "    }\n",
       "</style>\n",
       "<table border=\"1\" class=\"dataframe\">\n",
       "  <thead>\n",
       "    <tr>\n",
       "      <th></th>\n",
       "      <th colspan=\"3\" halign=\"left\">Survived</th>\n",
       "    </tr>\n",
       "    <tr>\n",
       "      <th></th>\n",
       "      <th>sum</th>\n",
       "      <th>count</th>\n",
       "      <th>mean</th>\n",
       "    </tr>\n",
       "    <tr>\n",
       "      <th>SoloTraveller</th>\n",
       "      <th></th>\n",
       "      <th></th>\n",
       "      <th></th>\n",
       "    </tr>\n",
       "  </thead>\n",
       "  <tbody>\n",
       "    <tr>\n",
       "      <th>No</th>\n",
       "      <td>179</td>\n",
       "      <td>354</td>\n",
       "      <td>0.505650</td>\n",
       "    </tr>\n",
       "    <tr>\n",
       "      <th>Yes</th>\n",
       "      <td>163</td>\n",
       "      <td>537</td>\n",
       "      <td>0.303538</td>\n",
       "    </tr>\n",
       "  </tbody>\n",
       "</table>\n",
       "</div>"
      ],
      "text/plain": [
       "              Survived                \n",
       "                   sum count      mean\n",
       "SoloTraveller                         \n",
       "No                 179   354  0.505650\n",
       "Yes                163   537  0.303538"
      ]
     },
     "execution_count": 16,
     "metadata": {},
     "output_type": "execute_result"
    }
   ],
   "source": [
    "solo_traveller = train_data.groupby(['SoloTraveller'])[['Survived']].aggregate(['sum', 'count', 'mean'])\n",
    "solo_traveller"
   ]
  },
  {
   "cell_type": "code",
   "execution_count": 17,
   "id": "e0da68ef",
   "metadata": {
    "execution": {
     "iopub.execute_input": "2023-11-20T07:43:52.067896Z",
     "iopub.status.busy": "2023-11-20T07:43:52.066604Z",
     "iopub.status.idle": "2023-11-20T07:43:52.431502Z",
     "shell.execute_reply": "2023-11-20T07:43:52.429775Z"
    },
    "papermill": {
     "duration": 0.390054,
     "end_time": "2023-11-20T07:43:52.434687",
     "exception": false,
     "start_time": "2023-11-20T07:43:52.044633",
     "status": "completed"
    },
    "tags": []
   },
   "outputs": [
    {
     "data": {
      "image/png": "[encoded data removed]",
      "text/plain": [
       "<Figure size 300x300 with 1 Axes>"
      ]
     },
     "metadata": {},
     "output_type": "display_data"
    },
    {
     "name": "stdout",
     "output_type": "stream",
     "text": [
      "Based on the above data, passengers who travelled with someone has a higher chance (50%)\n",
      "of survival compared to those who travelled alone.\n"
     ]
    }
   ],
   "source": [
    "sns.countplot(data=train_data, x='SoloTraveller', palette=['#EE4000', 'cornflowerblue'], hue='Survived')\n",
    "plt.xlabel('Solo Traveller')\n",
    "plt.ylabel('Passenger Count')\n",
    "plt.show()\n",
    "\n",
    "# Analysis on the data:\n",
    "print(f'''Based on the above data, passengers who travelled with someone has a higher chance (50%)\n",
    "of survival compared to those who travelled alone.''')"
   ]
  },
  {
   "cell_type": "markdown",
   "id": "aae8a084",
   "metadata": {
    "papermill": {
     "duration": 0.019757,
     "end_time": "2023-11-20T07:43:52.474544",
     "exception": false,
     "start_time": "2023-11-20T07:43:52.454787",
     "status": "completed"
    },
    "tags": []
   },
   "source": [
    "EDA on **Name** column"
   ]
  },
  {
   "cell_type": "markdown",
   "id": "0690c8f5",
   "metadata": {
    "papermill": {
     "duration": 0.020046,
     "end_time": "2023-11-20T07:43:52.515358",
     "exception": false,
     "start_time": "2023-11-20T07:43:52.495312",
     "status": "completed"
    },
    "tags": []
   },
   "source": [
    "From the `Name` column, we will get the `Title` of each passenger"
   ]
  },
  {
   "cell_type": "code",
   "execution_count": 18,
   "id": "45088b46",
   "metadata": {
    "execution": {
     "iopub.execute_input": "2023-11-20T07:43:52.558121Z",
     "iopub.status.busy": "2023-11-20T07:43:52.557720Z",
     "iopub.status.idle": "2023-11-20T07:43:52.568106Z",
     "shell.execute_reply": "2023-11-20T07:43:52.566728Z"
    },
    "papermill": {
     "duration": 0.035305,
     "end_time": "2023-11-20T07:43:52.570943",
     "exception": false,
     "start_time": "2023-11-20T07:43:52.535638",
     "status": "completed"
    },
    "tags": []
   },
   "outputs": [],
   "source": [
    "train_data['Title'] = train_data['Name'].apply(lambda x: x.split(',')[1].strip().split('.')[0])\n",
    "test_data['Title'] = test_data['Name'].apply(lambda x: x.split(',')[1].strip().split('.')[0])"
   ]
  },
  {
   "cell_type": "code",
   "execution_count": 19,
   "id": "87aa648e",
   "metadata": {
    "execution": {
     "iopub.execute_input": "2023-11-20T07:43:52.617818Z",
     "iopub.status.busy": "2023-11-20T07:43:52.617366Z",
     "iopub.status.idle": "2023-11-20T07:43:52.630927Z",
     "shell.execute_reply": "2023-11-20T07:43:52.629452Z"
    },
    "papermill": {
     "duration": 0.040017,
     "end_time": "2023-11-20T07:43:52.633825",
     "exception": false,
     "start_time": "2023-11-20T07:43:52.593808",
     "status": "completed"
    },
    "tags": []
   },
   "outputs": [
    {
     "name": "stdout",
     "output_type": "stream",
     "text": [
      "           Title  sum  count      mean\n",
      "0           Capt    0      1  0.000000\n",
      "1            Col    1      2  0.500000\n",
      "2            Don    0      1  0.000000\n",
      "3             Dr    3      7  0.428571\n",
      "4       Jonkheer    0      1  0.000000\n",
      "5           Lady    1      1  1.000000\n",
      "6          Major    1      2  0.500000\n",
      "7         Master   23     40  0.575000\n",
      "8           Miss  127    182  0.697802\n",
      "9           Mlle    2      2  1.000000\n",
      "10           Mme    1      1  1.000000\n",
      "11            Mr   81    517  0.156673\n",
      "12           Mrs   99    125  0.792000\n",
      "13            Ms    1      1  1.000000\n",
      "14           Rev    0      6  0.000000\n",
      "15           Sir    1      1  1.000000\n",
      "16  the Countess    1      1  1.000000\n",
      "\n",
      "We can state that most of the male head of the family (Mr) didn't make it may be because they are pre-occupied\n",
      "at the time to save their family other than their own. This can be seen in the high survival rate of the adult females (Mrs).\n",
      "Younger females also had been given priority in the saving of lives with 69.78% survival rate.\n"
     ]
    }
   ],
   "source": [
    "title_group = train_data.groupby(['Title'])['Survived'].aggregate(['sum', 'count', 'mean'])\n",
    "title_group.reset_index(inplace=True)\n",
    "print(title_group)\n",
    "\n",
    "# Analysis on the data:\n",
    "print(f\"\"\"\\nWe can state that most of the male head of the family (Mr) didn't make it may be because they are pre-occupied\n",
    "at the time to save their family other than their own. This can be seen in the high survival rate of the adult females (Mrs).\n",
    "Younger females also had been given priority in the saving of lives with 69.78% survival rate.\"\"\")"
   ]
  },
  {
   "cell_type": "markdown",
   "id": "e25bc0c0",
   "metadata": {
    "papermill": {
     "duration": 0.020975,
     "end_time": "2023-11-20T07:43:52.676944",
     "exception": false,
     "start_time": "2023-11-20T07:43:52.655969",
     "status": "completed"
    },
    "tags": []
   },
   "source": [
    "<a id='step-4'></a>\n",
    "<div class=\"alert alert-block alert-info\">\n",
    "<b>STEP 4:</b> Preprocessing</div>"
   ]
  },
  {
   "cell_type": "markdown",
   "id": "9e8a612e",
   "metadata": {
    "papermill": {
     "duration": 0.020724,
     "end_time": "2023-11-20T07:43:52.719661",
     "exception": false,
     "start_time": "2023-11-20T07:43:52.698937",
     "status": "completed"
    },
    "tags": []
   },
   "source": [
    "Identify feature and target columns"
   ]
  },
  {
   "cell_type": "code",
   "execution_count": 20,
   "id": "60b92652",
   "metadata": {
    "execution": {
     "iopub.execute_input": "2023-11-20T07:43:52.765670Z",
     "iopub.status.busy": "2023-11-20T07:43:52.765222Z",
     "iopub.status.idle": "2023-11-20T07:43:52.784833Z",
     "shell.execute_reply": "2023-11-20T07:43:52.783381Z"
    },
    "papermill": {
     "duration": 0.046853,
     "end_time": "2023-11-20T07:43:52.788441",
     "exception": false,
     "start_time": "2023-11-20T07:43:52.741588",
     "status": "completed"
    },
    "tags": []
   },
   "outputs": [],
   "source": [
    "features = ['Pclass', 'Sex', 'Age', 'Embarked', 'Relatives', 'SoloTraveller', 'Title']\n",
    "X_train_scaled = pd.get_dummies(train_data[features])\n",
    "X_test_scaled = pd.get_dummies(test_data[features])\n",
    "y_train = train_data['Survived'].values\n",
    "y_true = passId_data['Survived'].values"
   ]
  },
  {
   "cell_type": "code",
   "execution_count": 21,
   "id": "e3b9db41",
   "metadata": {
    "execution": {
     "iopub.execute_input": "2023-11-20T07:43:52.834220Z",
     "iopub.status.busy": "2023-11-20T07:43:52.833770Z",
     "iopub.status.idle": "2023-11-20T07:43:52.842409Z",
     "shell.execute_reply": "2023-11-20T07:43:52.841097Z"
    },
    "papermill": {
     "duration": 0.034545,
     "end_time": "2023-11-20T07:43:52.845031",
     "exception": false,
     "start_time": "2023-11-20T07:43:52.810486",
     "status": "completed"
    },
    "tags": []
   },
   "outputs": [],
   "source": [
    "cols = X_train_scaled.columns.union(X_test_scaled.columns)\n",
    "\n",
    "X_train_scaled = X_train_scaled.reindex(cols, axis=1, fill_value=0)\n",
    "X_test_scaled = X_test_scaled.reindex(cols, axis=1, fill_value=0)"
   ]
  },
  {
   "cell_type": "markdown",
   "id": "5793b623",
   "metadata": {
    "papermill": {
     "duration": 0.02273,
     "end_time": "2023-11-20T07:43:52.890008",
     "exception": false,
     "start_time": "2023-11-20T07:43:52.867278",
     "status": "completed"
    },
    "tags": []
   },
   "source": [
    "<a id='step-5'></a>\n",
    "<div class=\"alert alert-block alert-info\">\n",
    "<b>STEP 5:</b> Model Building</div>"
   ]
  },
  {
   "cell_type": "markdown",
   "id": "a52a1cac",
   "metadata": {
    "papermill": {
     "duration": 0.020941,
     "end_time": "2023-11-20T07:43:52.932285",
     "exception": false,
     "start_time": "2023-11-20T07:43:52.911344",
     "status": "completed"
    },
    "tags": []
   },
   "source": [
    "We will list all classifiers together with their parameters in a dictionary to loop with the GridSearchCV"
   ]
  },
  {
   "cell_type": "code",
   "execution_count": 22,
   "id": "b828d77c",
   "metadata": {
    "execution": {
     "iopub.execute_input": "2023-11-20T07:43:52.978429Z",
     "iopub.status.busy": "2023-11-20T07:43:52.977932Z",
     "iopub.status.idle": "2023-11-20T07:43:52.989854Z",
     "shell.execute_reply": "2023-11-20T07:43:52.988616Z"
    },
    "papermill": {
     "duration": 0.038311,
     "end_time": "2023-11-20T07:43:52.993218",
     "exception": false,
     "start_time": "2023-11-20T07:43:52.954907",
     "status": "completed"
    },
    "tags": []
   },
   "outputs": [],
   "source": [
    "model_params = {\n",
    "    'knn': {\n",
    "        'model': KNeighborsClassifier(),\n",
    "        'params': {\n",
    "            'n_neighbors': [1, 2, 3, 4, 5, 6, 7, 8, 9, 10], \n",
    "            'weights': ['uniform', 'distance'], \n",
    "            'algorithm': ['auto', 'ball_tree', 'kd_tree', 'brute']\n",
    "        }\n",
    "    },\n",
    "    'logistic_regression': {\n",
    "        'model': LogisticRegression(solver='liblinear', random_state=42),\n",
    "        'params': { \n",
    "            'penalty': ['l1', 'l2'], \n",
    "            'C': [0.1, 1, 10]\n",
    "        }\n",
    "    }, \n",
    "    'random_forest': {\n",
    "        'model': RandomForestClassifier(max_depth=5, n_estimators=10, max_features=1, random_state=42), \n",
    "        'params': {\n",
    "            'n_estimators': [100, 200, 300], \n",
    "            'min_samples_leaf': [1, 2]\n",
    "        }\n",
    "    },\n",
    "    'svm': {\n",
    "        'model': SVC(kernel=\"linear\", C=0.025, random_state=42),\n",
    "        'params': {\n",
    "            'kernel': ['linear', 'poly', 'rbf', 'sigmoid'],\n",
    "            'C': [0.001, 0.01, 0.1, 1, 10, 100]\n",
    "        }\n",
    "    }, \n",
    "    'gaussian': {\n",
    "        'model': GaussianNB(), \n",
    "        'params': {\n",
    "            'priors': [None]\n",
    "        }\n",
    "    }, \n",
    "    'tree': {\n",
    "        'model': DecisionTreeClassifier(max_depth=5, random_state=42), \n",
    "        'params': {\n",
    "            'max_depth': [None, 1, 2, 3, 4, 5, 6, 7, 8, 9, 10], \n",
    "            'min_samples_split': [2, 3, 4, 5], \n",
    "        }\n",
    "    }\n",
    "}"
   ]
  },
  {
   "cell_type": "markdown",
   "id": "ab01bec0",
   "metadata": {
    "papermill": {
     "duration": 0.021743,
     "end_time": "2023-11-20T07:43:53.038323",
     "exception": false,
     "start_time": "2023-11-20T07:43:53.016580",
     "status": "completed"
    },
    "tags": []
   },
   "source": [
    "We will now use GridSearchCV to iterate over the different classifiers and parameters to see which combination is the best for this model."
   ]
  },
  {
   "cell_type": "code",
   "execution_count": 23,
   "id": "674ef221",
   "metadata": {
    "execution": {
     "iopub.execute_input": "2023-11-20T07:43:53.084117Z",
     "iopub.status.busy": "2023-11-20T07:43:53.083690Z",
     "iopub.status.idle": "2023-11-20T07:45:24.019943Z",
     "shell.execute_reply": "2023-11-20T07:45:24.018246Z"
    },
    "papermill": {
     "duration": 90.962506,
     "end_time": "2023-11-20T07:45:24.023036",
     "exception": false,
     "start_time": "2023-11-20T07:43:53.060530",
     "status": "completed"
    },
    "tags": []
   },
   "outputs": [
    {
     "name": "stdout",
     "output_type": "stream",
     "text": [
      "Fitting 5 folds for each of 80 candidates, totalling 400 fits\n",
      "Fitting 5 folds for each of 6 candidates, totalling 30 fits\n",
      "Fitting 5 folds for each of 6 candidates, totalling 30 fits\n",
      "Fitting 5 folds for each of 24 candidates, totalling 120 fits\n",
      "Fitting 5 folds for each of 1 candidates, totalling 5 fits\n",
      "Fitting 5 folds for each of 44 candidates, totalling 220 fits\n",
      "Done\n"
     ]
    }
   ],
   "source": [
    "scores = []\n",
    "\n",
    "for model_name, mp in model_params.items():\n",
    "    clf = GridSearchCV(mp['model'], mp['params'], cv=5, return_train_score=False, verbose=1)\n",
    "    clf.fit(X_train_scaled, y_train)\n",
    "    scores.append({\n",
    "        'model': model_name, \n",
    "        'best_score': clf.best_score_, \n",
    "        'best_params': clf.best_params_, \n",
    "        'best_estimator': clf.best_estimator_\n",
    "    })\n",
    "    \n",
    "print('Done')"
   ]
  },
  {
   "cell_type": "markdown",
   "id": "cb461199",
   "metadata": {
    "papermill": {
     "duration": 0.023316,
     "end_time": "2023-11-20T07:45:24.068934",
     "exception": false,
     "start_time": "2023-11-20T07:45:24.045618",
     "status": "completed"
    },
    "tags": []
   },
   "source": [
    "<a id='step-6'></a>\n",
    "<div class=\"alert alert-block alert-info\">\n",
    "<b>STEP 6:</b> Model Selection</div>"
   ]
  },
  {
   "cell_type": "markdown",
   "id": "aed88e3a",
   "metadata": {
    "papermill": {
     "duration": 0.023065,
     "end_time": "2023-11-20T07:45:24.114708",
     "exception": false,
     "start_time": "2023-11-20T07:45:24.091643",
     "status": "completed"
    },
    "tags": []
   },
   "source": [
    "We will list all scores gathered in a DataFrame for easy viewing."
   ]
  },
  {
   "cell_type": "code",
   "execution_count": 24,
   "id": "3e86898c",
   "metadata": {
    "execution": {
     "iopub.execute_input": "2023-11-20T07:45:24.166518Z",
     "iopub.status.busy": "2023-11-20T07:45:24.164919Z",
     "iopub.status.idle": "2023-11-20T07:45:24.240661Z",
     "shell.execute_reply": "2023-11-20T07:45:24.239461Z"
    },
    "papermill": {
     "duration": 0.105239,
     "end_time": "2023-11-20T07:45:24.244090",
     "exception": false,
     "start_time": "2023-11-20T07:45:24.138851",
     "status": "completed"
    },
    "tags": []
   },
   "outputs": [
    {
     "data": {
      "text/html": [
       "<div>\n",
       "<style scoped>\n",
       "    .dataframe tbody tr th:only-of-type {\n",
       "        vertical-align: middle;\n",
       "    }\n",
       "\n",
       "    .dataframe tbody tr th {\n",
       "        vertical-align: top;\n",
       "    }\n",
       "\n",
       "    .dataframe thead th {\n",
       "        text-align: right;\n",
       "    }\n",
       "</style>\n",
       "<table border=\"1\" class=\"dataframe\">\n",
       "  <thead>\n",
       "    <tr style=\"text-align: right;\">\n",
       "      <th></th>\n",
       "      <th>model</th>\n",
       "      <th>best_score</th>\n",
       "      <th>best_params</th>\n",
       "      <th>best_estimator</th>\n",
       "    </tr>\n",
       "  </thead>\n",
       "  <tbody>\n",
       "    <tr>\n",
       "      <th>0</th>\n",
       "      <td>knn</td>\n",
       "      <td>0.796861</td>\n",
       "      <td>{'algorithm': 'kd_tree', 'n_neighbors': 7, 'we...</td>\n",
       "      <td>KNeighborsClassifier(algorithm='kd_tree', n_ne...</td>\n",
       "    </tr>\n",
       "    <tr>\n",
       "      <th>1</th>\n",
       "      <td>logistic_regression</td>\n",
       "      <td>0.827161</td>\n",
       "      <td>{'C': 1, 'penalty': 'l1'}</td>\n",
       "      <td>LogisticRegression(C=1, penalty='l1', random_s...</td>\n",
       "    </tr>\n",
       "    <tr>\n",
       "      <th>2</th>\n",
       "      <td>random_forest</td>\n",
       "      <td>0.822648</td>\n",
       "      <td>{'min_samples_leaf': 1, 'n_estimators': 100}</td>\n",
       "      <td>(DecisionTreeClassifier(max_depth=5, max_featu...</td>\n",
       "    </tr>\n",
       "    <tr>\n",
       "      <th>3</th>\n",
       "      <td>svm</td>\n",
       "      <td>0.829383</td>\n",
       "      <td>{'C': 1, 'kernel': 'linear'}</td>\n",
       "      <td>SVC(C=1, kernel='linear', random_state=42)</td>\n",
       "    </tr>\n",
       "    <tr>\n",
       "      <th>4</th>\n",
       "      <td>gaussian</td>\n",
       "      <td>0.710502</td>\n",
       "      <td>{'priors': None}</td>\n",
       "      <td>GaussianNB()</td>\n",
       "    </tr>\n",
       "    <tr>\n",
       "      <th>5</th>\n",
       "      <td>tree</td>\n",
       "      <td>0.814795</td>\n",
       "      <td>{'max_depth': 4, 'min_samples_split': 2}</td>\n",
       "      <td>DecisionTreeClassifier(max_depth=4, random_sta...</td>\n",
       "    </tr>\n",
       "  </tbody>\n",
       "</table>\n",
       "</div>"
      ],
      "text/plain": [
       "                 model  best_score  \\\n",
       "0                  knn    0.796861   \n",
       "1  logistic_regression    0.827161   \n",
       "2        random_forest    0.822648   \n",
       "3                  svm    0.829383   \n",
       "4             gaussian    0.710502   \n",
       "5                 tree    0.814795   \n",
       "\n",
       "                                         best_params  \\\n",
       "0  {'algorithm': 'kd_tree', 'n_neighbors': 7, 'we...   \n",
       "1                          {'C': 1, 'penalty': 'l1'}   \n",
       "2       {'min_samples_leaf': 1, 'n_estimators': 100}   \n",
       "3                       {'C': 1, 'kernel': 'linear'}   \n",
       "4                                   {'priors': None}   \n",
       "5           {'max_depth': 4, 'min_samples_split': 2}   \n",
       "\n",
       "                                      best_estimator  \n",
       "0  KNeighborsClassifier(algorithm='kd_tree', n_ne...  \n",
       "1  LogisticRegression(C=1, penalty='l1', random_s...  \n",
       "2  (DecisionTreeClassifier(max_depth=5, max_featu...  \n",
       "3         SVC(C=1, kernel='linear', random_state=42)  \n",
       "4                                       GaussianNB()  \n",
       "5  DecisionTreeClassifier(max_depth=4, random_sta...  "
      ]
     },
     "execution_count": 24,
     "metadata": {},
     "output_type": "execute_result"
    }
   ],
   "source": [
    "score_data = pd.DataFrame(scores, columns=['model', 'best_score', 'best_params', 'best_estimator'])\n",
    "score_data"
   ]
  },
  {
   "cell_type": "markdown",
   "id": "d46c9432",
   "metadata": {
    "papermill": {
     "duration": 0.021705,
     "end_time": "2023-11-20T07:45:24.288133",
     "exception": false,
     "start_time": "2023-11-20T07:45:24.266428",
     "status": "completed"
    },
    "tags": []
   },
   "source": [
    "Get the best estimator which yields the best score"
   ]
  },
  {
   "cell_type": "code",
   "execution_count": 25,
   "id": "f28343c2",
   "metadata": {
    "execution": {
     "iopub.execute_input": "2023-11-20T07:45:24.336519Z",
     "iopub.status.busy": "2023-11-20T07:45:24.335571Z",
     "iopub.status.idle": "2023-11-20T07:45:24.346846Z",
     "shell.execute_reply": "2023-11-20T07:45:24.345712Z"
    },
    "papermill": {
     "duration": 0.038862,
     "end_time": "2023-11-20T07:45:24.349300",
     "exception": false,
     "start_time": "2023-11-20T07:45:24.310438",
     "status": "completed"
    },
    "tags": []
   },
   "outputs": [
    {
     "data": {
      "text/plain": [
       "model                                                    svm\n",
       "best_score                                          0.829383\n",
       "best_params                     {'C': 1, 'kernel': 'linear'}\n",
       "best_estimator    SVC(C=1, kernel='linear', random_state=42)\n",
       "Name: 3, dtype: object"
      ]
     },
     "execution_count": 25,
     "metadata": {},
     "output_type": "execute_result"
    }
   ],
   "source": [
    "idx = score_data['best_score'].idxmax()\n",
    "best_score = score_data.loc[idx]\n",
    "best_score"
   ]
  },
  {
   "cell_type": "markdown",
   "id": "f8b68d05",
   "metadata": {
    "papermill": {
     "duration": 0.021878,
     "end_time": "2023-11-20T07:45:24.393411",
     "exception": false,
     "start_time": "2023-11-20T07:45:24.371533",
     "status": "completed"
    },
    "tags": []
   },
   "source": [
    "Rerun the classifier using the best parameters and get predictions for the test data."
   ]
  },
  {
   "cell_type": "code",
   "execution_count": 26,
   "id": "b3d9e55e",
   "metadata": {
    "execution": {
     "iopub.execute_input": "2023-11-20T07:45:24.442691Z",
     "iopub.status.busy": "2023-11-20T07:45:24.441866Z",
     "iopub.status.idle": "2023-11-20T07:45:24.804260Z",
     "shell.execute_reply": "2023-11-20T07:45:24.803205Z"
    },
    "papermill": {
     "duration": 0.390849,
     "end_time": "2023-11-20T07:45:24.807208",
     "exception": false,
     "start_time": "2023-11-20T07:45:24.416359",
     "status": "completed"
    },
    "tags": []
   },
   "outputs": [],
   "source": [
    "classifier = best_score['best_estimator']\n",
    "classifier.fit(X_train_scaled, y_train)\n",
    "y_pred = clf.predict(X_test_scaled)"
   ]
  },
  {
   "cell_type": "code",
   "execution_count": 27,
   "id": "820cf86e",
   "metadata": {
    "execution": {
     "iopub.execute_input": "2023-11-20T07:45:24.854492Z",
     "iopub.status.busy": "2023-11-20T07:45:24.853728Z",
     "iopub.status.idle": "2023-11-20T07:45:24.865135Z",
     "shell.execute_reply": "2023-11-20T07:45:24.864108Z"
    },
    "papermill": {
     "duration": 0.038416,
     "end_time": "2023-11-20T07:45:24.867942",
     "exception": false,
     "start_time": "2023-11-20T07:45:24.829526",
     "status": "completed"
    },
    "tags": []
   },
   "outputs": [],
   "source": [
    "submission = pd.DataFrame({'PassengerId': passId_data['PassengerId'], 'Survived': y_pred})\n",
    "submission.to_csv('Submission.csv', index=False)"
   ]
  }
 ],
 "metadata": {
  "kaggle": {
   "accelerator": "none",
   "dataSources": [
    {
     "databundleVersionId": 26502,
     "sourceId": 3136,
     "sourceType": "competition"
    }
   ],
   "dockerImageVersionId": 30587,
   "isGpuEnabled": false,
   "isInternetEnabled": true,
   "language": "python",
   "sourceType": "notebook"
  },
  "kernelspec": {
   "display_name": "Python 3",
   "language": "python",
   "name": "python3"
  },
  "language_info": {
   "codemirror_mode": {
    "name": "ipython",
    "version": 3
   },
   "file_extension": ".py",
   "mimetype": "text/x-python",
   "name": "python",
   "nbconvert_exporter": "python",
   "pygments_lexer": "ipython3",
   "version": "3.10.12"
  },
  "papermill": {
   "default_parameters": {},
   "duration": 105.901879,
   "end_time": "2023-11-20T07:45:25.915921",
   "environment_variables": {},
   "exception": null,
   "input_path": "__notebook__.ipynb",
   "output_path": "__notebook__.ipynb",
   "parameters": {},
   "start_time": "2023-11-20T07:43:40.014042",
   "version": "2.4.0"
  }
 },
 "nbformat": 4,
 "nbformat_minor": 5
}
